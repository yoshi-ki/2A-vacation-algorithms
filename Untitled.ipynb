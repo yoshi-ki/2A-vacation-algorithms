{
 "cells": [
  {
   "cell_type": "code",
   "execution_count": 3,
   "metadata": {},
   "outputs": [
    {
     "name": "stdout",
     "output_type": "stream",
     "text": [
      "2019/5/5\n",
      "TBD\n"
     ]
    }
   ],
   "source": [
    "a = input()\n",
    "b = a.split(\"/\")\n",
    "if (int(b[0]) <= 2019):\n",
    "  if(int(b[1])<=4):\n",
    "    print(\"Heisei\")\n",
    "  else:\n",
    "    print(\"TBD\")\n",
    "else:\n",
    "    print(\"TBD\")"
   ]
  },
  {
   "cell_type": "code",
   "execution_count": null,
   "metadata": {
    "collapsed": true
   },
   "outputs": [],
   "source": []
  }
 ],
 "metadata": {
  "kernelspec": {
   "display_name": "Python 3",
   "language": "python",
   "name": "python3"
  },
  "language_info": {
   "codemirror_mode": {
    "name": "ipython",
    "version": 3
   },
   "file_extension": ".py",
   "mimetype": "text/x-python",
   "name": "python",
   "nbconvert_exporter": "python",
   "pygments_lexer": "ipython3",
   "version": "3.6.3"
  }
 },
 "nbformat": 4,
 "nbformat_minor": 2
}
